{
 "cells": [
  {
   "cell_type": "code",
   "execution_count": null,
   "id": "2031ade7",
   "metadata": {},
   "outputs": [
    {
     "name": "stdout",
     "output_type": "stream",
     "text": [
      "📥 Downloading track metadata...\n"
     ]
    },
    {
     "name": "stderr",
     "output_type": "stream",
     "text": [
      "Cases: 100%|██████████| 25/25 [01:34<00:00,  3.79s/it]\n"
     ]
    },
    {
     "name": "stdout",
     "output_type": "stream",
     "text": [
      "✅ vital_data.json saved.\n"
     ]
    }
   ],
   "source": [
    "import pandas as pd\n",
    "import json\n",
    "import os\n",
    "from tqdm import tqdm\n",
    "import urllib.request\n",
    "\n",
    "PARAMETERS = {\n",
    "    'Solar8000/HR': 'Heart Rate',\n",
    "    'Solar8000/ART_MBP': 'Arterial BP',\n",
    "    'Solar8000/PLETH_SPO2': 'Oxygen Saturation',\n",
    "    'Solar8000/ETCO2': 'End-Tidal CO2',\n",
    "    'Solar8000/RR': 'Respiratory Rate',\n",
    "    'Solar8000/PLETH_HR': 'Pleth HR',\n",
    "    'Solar8000/ART_SBP': 'Systolic BP',\n",
    "    'Solar8000/ART_DBP': 'Diastolic BP',\n",
    "    'Solar8000/NIBP_MBP': 'NIBP Mean BP',\n",
    "    'Solar8000/CVP': 'Central Venous Pressure',\n",
    "    'Vigileo/CO': 'Cardiac Output',\n",
    "    'Vigileo/SV': 'Stroke Volume',\n",
    "    'Vigilance/HR_AVG': 'Average HR',\n",
    "    'CardioQ/HR': 'CardioQ HR'\n",
    "}\n",
    "\n",
    "CASE_IDS = [25, 58, 68, 92, 96, 116, 135, 137, 142, 161, 203, 229, 239,\n",
    "            243, 256, 266, 279, 323, 375, 384, 413, 416, 458, 460, 478]\n",
    "\n",
    "TRKS_CSV_URL = 'https://api.vitaldb.net/trks'\n",
    "TRACK_DATA_URL = 'https://api.vitaldb.net/{}'\n",
    "\n",
    "\n",
    "def interpolate_per_second(df):\n",
    "    df['sec'] = df['time'].astype(int)\n",
    "    df = df.drop_duplicates(subset='sec', keep='last')\n",
    "    return df[['sec', 'value']].rename(columns={'sec': 'time'}).to_dict(orient='records')\n",
    "\n",
    "\n",
    "def read_csv_with_headers(url):\n",
    "    import gzip\n",
    "    import io\n",
    "    req = urllib.request.Request(url, headers={\n",
    "        'User-Agent': 'Mozilla/5.0 (compatible; VitalScraper/1.0)',\n",
    "        'Accept-Encoding': 'gzip'\n",
    "    })\n",
    "    with urllib.request.urlopen(req) as response:\n",
    "        with gzip.GzipFile(fileobj=io.BytesIO(response.read())) as gz:\n",
    "            return pd.read_csv(gz, names=['time', 'value'], header=None)\n",
    "\n",
    "tracks_df = pd.read_csv(TRKS_CSV_URL)\n",
    "filtered_tracks = tracks_df[\n",
    "    (tracks_df['caseid'].isin(CASE_IDS)) &\n",
    "    (tracks_df['tname'].isin(PARAMETERS.keys()))\n",
    "]\n",
    "\n",
    "result = {}\n",
    "for case_id in tqdm(CASE_IDS, desc=\"Cases\"):\n",
    "    case_tracks = filtered_tracks[filtered_tracks['caseid'] == case_id]\n",
    "    if case_tracks.empty:\n",
    "        print(f\"[Case {case_id}] No matching parameters. Skipping.\")\n",
    "        continue\n",
    "\n",
    "    case_data = {}\n",
    "    for _, row in case_tracks.iterrows():\n",
    "        label = PARAMETERS[row['tname']]\n",
    "        tid = row['tid']\n",
    "    \n",
    "        df = read_csv_with_headers(TRACK_DATA_URL.format(tid))\n",
    "        df.dropna(inplace=True)\n",
    "        df['time'] = pd.to_numeric(df['time'], errors='coerce')\n",
    "        df['value'] = pd.to_numeric(df['value'], errors='coerce')\n",
    "        df.dropna(inplace=True)\n",
    "        values = interpolate_per_second(df)\n",
    "        case_data[label] = values\n",
    "\n",
    "    result[str(case_id)] = case_data\n",
    "\n",
    "with open('vital_data.json', 'w') as f:\n",
    "    json.dump(result, f, indent=2)\n",
    "\n",
    "\n",
    "\n",
    "\n",
    "\n",
    "\n",
    "\n"
   ]
  },
  {
   "cell_type": "code",
   "execution_count": null,
   "id": "39cb82c1",
   "metadata": {},
   "outputs": [],
   "source": [
    "\n",
    "\n",
    "\n",
    "\n",
    "\n",
    "\n",
    "\n",
    "\n",
    "\n",
    "\n",
    "\n",
    "\n",
    "\n",
    "\n",
    "\n",
    "\n",
    "\n",
    "\n",
    "\n"
   ]
  }
 ],
 "metadata": {
  "kernelspec": {
   "display_name": "dsc80",
   "language": "python",
   "name": "python3"
  },
  "language_info": {
   "codemirror_mode": {
    "name": "ipython",
    "version": 3
   },
   "file_extension": ".py",
   "mimetype": "text/x-python",
   "name": "python",
   "nbconvert_exporter": "python",
   "pygments_lexer": "ipython3",
   "version": "3.12.8"
  }
 },
 "nbformat": 4,
 "nbformat_minor": 5
}
