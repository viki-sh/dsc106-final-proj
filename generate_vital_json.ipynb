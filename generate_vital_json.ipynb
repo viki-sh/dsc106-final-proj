{
 "cells": [
  {
   "cell_type": "code",
   "execution_count": null,
   "id": "2031ade7",
   "metadata": {},
   "outputs": [
    {
     "name": "stderr",
     "output_type": "stream",
     "text": [
      "Cases:   4%|▍         | 1/25 [00:00<00:14,  1.61it/s]"
     ]
    },
    {
     "name": "stdout",
     "output_type": "stream",
     "text": [
      "[Case 25] HTTP error: 403\n"
     ]
    },
    {
     "name": "stderr",
     "output_type": "stream",
     "text": [
      "Cases:   8%|▊         | 2/25 [00:01<00:13,  1.70it/s]"
     ]
    },
    {
     "name": "stdout",
     "output_type": "stream",
     "text": [
      "[Case 58] HTTP error: 403\n"
     ]
    },
    {
     "name": "stderr",
     "output_type": "stream",
     "text": [
      "Cases:  12%|█▏        | 3/25 [00:01<00:13,  1.69it/s]"
     ]
    },
    {
     "name": "stdout",
     "output_type": "stream",
     "text": [
      "[Case 68] HTTP error: 403\n"
     ]
    },
    {
     "name": "stderr",
     "output_type": "stream",
     "text": [
      "Cases:  16%|█▌        | 4/25 [00:02<00:12,  1.68it/s]"
     ]
    },
    {
     "name": "stdout",
     "output_type": "stream",
     "text": [
      "[Case 92] HTTP error: 403\n"
     ]
    },
    {
     "name": "stderr",
     "output_type": "stream",
     "text": [
      "Cases:  20%|██        | 5/25 [00:02<00:11,  1.68it/s]"
     ]
    },
    {
     "name": "stdout",
     "output_type": "stream",
     "text": [
      "[Case 96] HTTP error: 403\n"
     ]
    },
    {
     "name": "stderr",
     "output_type": "stream",
     "text": [
      "Cases:  24%|██▍       | 6/25 [00:03<00:11,  1.70it/s]"
     ]
    },
    {
     "name": "stdout",
     "output_type": "stream",
     "text": [
      "[Case 116] HTTP error: 403\n"
     ]
    },
    {
     "name": "stderr",
     "output_type": "stream",
     "text": [
      "Cases:  28%|██▊       | 7/25 [00:04<00:10,  1.69it/s]"
     ]
    },
    {
     "name": "stdout",
     "output_type": "stream",
     "text": [
      "[Case 135] HTTP error: 403\n"
     ]
    },
    {
     "name": "stderr",
     "output_type": "stream",
     "text": [
      "Cases:  32%|███▏      | 8/25 [00:04<00:10,  1.70it/s]"
     ]
    },
    {
     "name": "stdout",
     "output_type": "stream",
     "text": [
      "[Case 137] HTTP error: 403\n"
     ]
    },
    {
     "name": "stderr",
     "output_type": "stream",
     "text": [
      "Cases:  36%|███▌      | 9/25 [00:05<00:09,  1.68it/s]"
     ]
    },
    {
     "name": "stdout",
     "output_type": "stream",
     "text": [
      "[Case 142] HTTP error: 403\n"
     ]
    },
    {
     "name": "stderr",
     "output_type": "stream",
     "text": [
      "Cases:  40%|████      | 10/25 [00:05<00:08,  1.68it/s]"
     ]
    },
    {
     "name": "stdout",
     "output_type": "stream",
     "text": [
      "[Case 161] HTTP error: 403\n"
     ]
    },
    {
     "name": "stderr",
     "output_type": "stream",
     "text": [
      "Cases:  44%|████▍     | 11/25 [00:06<00:08,  1.69it/s]"
     ]
    },
    {
     "name": "stdout",
     "output_type": "stream",
     "text": [
      "[Case 203] HTTP error: 403\n"
     ]
    },
    {
     "name": "stderr",
     "output_type": "stream",
     "text": [
      "Cases:  48%|████▊     | 12/25 [00:07<00:07,  1.69it/s]"
     ]
    },
    {
     "name": "stdout",
     "output_type": "stream",
     "text": [
      "[Case 229] HTTP error: 403\n"
     ]
    },
    {
     "name": "stderr",
     "output_type": "stream",
     "text": [
      "Cases:  52%|█████▏    | 13/25 [00:07<00:07,  1.69it/s]"
     ]
    },
    {
     "name": "stdout",
     "output_type": "stream",
     "text": [
      "[Case 239] HTTP error: 403\n"
     ]
    },
    {
     "name": "stderr",
     "output_type": "stream",
     "text": [
      "Cases:  56%|█████▌    | 14/25 [00:08<00:06,  1.68it/s]"
     ]
    },
    {
     "name": "stdout",
     "output_type": "stream",
     "text": [
      "[Case 243] HTTP error: 403\n"
     ]
    },
    {
     "name": "stderr",
     "output_type": "stream",
     "text": [
      "Cases:  60%|██████    | 15/25 [00:08<00:05,  1.71it/s]"
     ]
    },
    {
     "name": "stdout",
     "output_type": "stream",
     "text": [
      "[Case 256] HTTP error: 403\n"
     ]
    },
    {
     "name": "stderr",
     "output_type": "stream",
     "text": [
      "Cases:  64%|██████▍   | 16/25 [00:09<00:05,  1.71it/s]"
     ]
    },
    {
     "name": "stdout",
     "output_type": "stream",
     "text": [
      "[Case 266] HTTP error: 403\n"
     ]
    },
    {
     "name": "stderr",
     "output_type": "stream",
     "text": [
      "Cases:  68%|██████▊   | 17/25 [00:10<00:04,  1.72it/s]"
     ]
    },
    {
     "name": "stdout",
     "output_type": "stream",
     "text": [
      "[Case 279] HTTP error: 403\n"
     ]
    },
    {
     "name": "stderr",
     "output_type": "stream",
     "text": [
      "Cases:  72%|███████▏  | 18/25 [00:10<00:03,  1.76it/s]"
     ]
    },
    {
     "name": "stdout",
     "output_type": "stream",
     "text": [
      "[Case 323] HTTP error: 403\n"
     ]
    },
    {
     "name": "stderr",
     "output_type": "stream",
     "text": [
      "Cases:  76%|███████▌  | 19/25 [00:11<00:03,  1.75it/s]"
     ]
    },
    {
     "name": "stdout",
     "output_type": "stream",
     "text": [
      "[Case 375] HTTP error: 403\n"
     ]
    },
    {
     "name": "stderr",
     "output_type": "stream",
     "text": [
      "Cases:  80%|████████  | 20/25 [00:11<00:02,  1.77it/s]"
     ]
    },
    {
     "name": "stdout",
     "output_type": "stream",
     "text": [
      "[Case 384] HTTP error: 403\n"
     ]
    },
    {
     "name": "stderr",
     "output_type": "stream",
     "text": [
      "Cases:  84%|████████▍ | 21/25 [00:12<00:02,  1.77it/s]"
     ]
    },
    {
     "name": "stdout",
     "output_type": "stream",
     "text": [
      "[Case 413] HTTP error: 403\n"
     ]
    },
    {
     "name": "stderr",
     "output_type": "stream",
     "text": [
      "Cases:  88%|████████▊ | 22/25 [00:12<00:01,  1.73it/s]"
     ]
    },
    {
     "name": "stdout",
     "output_type": "stream",
     "text": [
      "[Case 416] HTTP error: 403\n"
     ]
    },
    {
     "name": "stderr",
     "output_type": "stream",
     "text": [
      "Cases:  92%|█████████▏| 23/25 [00:13<00:01,  1.73it/s]"
     ]
    },
    {
     "name": "stdout",
     "output_type": "stream",
     "text": [
      "[Case 458] HTTP error: 403\n"
     ]
    },
    {
     "name": "stderr",
     "output_type": "stream",
     "text": [
      "Cases:  96%|█████████▌| 24/25 [00:14<00:00,  1.72it/s]"
     ]
    },
    {
     "name": "stdout",
     "output_type": "stream",
     "text": [
      "[Case 460] HTTP error: 403\n"
     ]
    },
    {
     "name": "stderr",
     "output_type": "stream",
     "text": [
      "Cases: 100%|██████████| 25/25 [00:14<00:00,  1.71it/s]"
     ]
    },
    {
     "name": "stdout",
     "output_type": "stream",
     "text": [
      "[Case 478] HTTP error: 403\n",
      "✅ vital_data.json saved.\n"
     ]
    },
    {
     "name": "stderr",
     "output_type": "stream",
     "text": [
      "\n"
     ]
    }
   ],
   "source": [
    "import pandas as pd\n",
    "import json\n",
    "import os\n",
    "from tqdm import tqdm\n",
    "\n",
    "PARAMETERS = {\n",
    "    'Solar8000/HR': 'Heart Rate',\n",
    "    'Solar8000/ART_MBP': 'Arterial BP',\n",
    "    'Solar8000/PLETH_SPO2': 'Oxygen Saturation',\n",
    "    'Solar8000/ETCO2': 'End-Tidal CO2',\n",
    "    'Solar8000/RR': 'Respiratory Rate',\n",
    "    'Solar8000/PLETH_HR': 'Pleth HR',\n",
    "    'Solar8000/ART_SBP': 'Systolic BP',\n",
    "    'Solar8000/ART_DBP': 'Diastolic BP',\n",
    "    'Solar8000/NIBP_MBP': 'NIBP Mean BP',\n",
    "    'Solar8000/CVP': 'Central Venous Pressure',\n",
    "    'Vigileo/CO': 'Cardiac Output',\n",
    "    'Vigileo/SV': 'Stroke Volume',\n",
    "    'Vigilance/HR_AVG': 'Average HR',\n",
    "    'CardioQ/HR': 'CardioQ HR'\n",
    "}\n",
    "\n",
    "CASE_IDS = [25, 58, 68, 92, 96, 116, 135, 137, 142, 161, 203, 229, 239,\n",
    "            243, 256, 266, 279, 323, 375, 384, 413, 416, 458, 460, 478]\n",
    "\n",
    "TRKS_CSV_URL = 'https://api.vitaldb.net/trks'\n",
    "TRACK_DATA_URL = 'https://api.vitaldb.net/{}.csv'\n",
    "\n",
    "\n",
    "def interpolate_per_second(df):\n",
    "    df['sec'] = df['time'].astype(int)\n",
    "    df = df.drop_duplicates(subset='sec', keep='last')\n",
    "    return df[['sec', 'value']].rename(columns={'sec': 'time'}).to_dict(orient='records')\n",
    "\n",
    "\n",
    "print(\"📥 Downloading track metadata...\")\n",
    "tracks_df = pd.read_csv(TRKS_CSV_URL)\n",
    "filtered_tracks = tracks_df[\n",
    "    (tracks_df['caseid'].isin(CASE_IDS)) &\n",
    "    (tracks_df['tname'].isin(PARAMETERS.keys()))\n",
    "]\n",
    "\n",
    "result = {}\n",
    "for case_id in tqdm(CASE_IDS, desc=\"Cases\"):\n",
    "    case_tracks = filtered_tracks[filtered_tracks['caseid'] == case_id]\n",
    "    if case_tracks.empty:\n",
    "        print(f\"[Case {case_id}] No matching parameters. Skipping.\")\n",
    "        continue\n",
    "\n",
    "    case_data = {}\n",
    "    for _, row in case_tracks.iterrows():\n",
    "        label = PARAMETERS[row['tname']]\n",
    "        tid = row['tid']\n",
    "        try:\n",
    "            df = pd.read_csv(TRACK_DATA_URL.format(tid), names=['time', 'value'], header=None)\n",
    "            df.dropna(inplace=True)\n",
    "            df['time'] = pd.to_numeric(df['time'], errors='coerce')\n",
    "            df['value'] = pd.to_numeric(df['value'], errors='coerce')\n",
    "            df.dropna(inplace=True)\n",
    "            values = interpolate_per_second(df)\n",
    "            case_data[label] = values\n",
    "        except Exception as e:\n",
    "            print(f\"[Case {case_id} - {label}] Error loading tid {tid}: {e}\")\n",
    "\n",
    "    result[str(case_id)] = case_data\n",
    "\n",
    "with open('vital_data.json', 'w') as f:\n",
    "    json.dump(result, f, indent=2)\n",
    "\n",
    "print(\"✅ vital_data.json saved.\")\n",
    "\n",
    "\n",
    "\n"
   ]
  },
  {
   "cell_type": "code",
   "execution_count": null,
   "id": "39cb82c1",
   "metadata": {},
   "outputs": [],
   "source": []
  }
 ],
 "metadata": {
  "kernelspec": {
   "display_name": "dsc80",
   "language": "python",
   "name": "python3"
  },
  "language_info": {
   "codemirror_mode": {
    "name": "ipython",
    "version": 3
   },
   "file_extension": ".py",
   "mimetype": "text/x-python",
   "name": "python",
   "nbconvert_exporter": "python",
   "pygments_lexer": "ipython3",
   "version": "3.12.8"
  }
 },
 "nbformat": 4,
 "nbformat_minor": 5
}
