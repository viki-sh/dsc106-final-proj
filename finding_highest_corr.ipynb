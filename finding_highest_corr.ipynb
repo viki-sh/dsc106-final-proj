{
 "cells": [
  {
   "cell_type": "code",
   "execution_count": null,
   "id": "16baa4a2",
   "metadata": {},
   "outputs": [
    {
     "name": "stderr",
     "output_type": "stream",
     "text": [
      "Analyzing Correlations: 100%|██████████| 500/500 [04:13<00:00,  1.97it/s]"
     ]
    },
    {
     "name": "stdout",
     "output_type": "stream",
     "text": [
      "Top 20 correlated case IDs: [59, 353, 163, 421, 279, 58, 183, 145, 221, 419, 425, 460, 92, 242, 384, 405, 413, 427, 96, 380, 60, 297, 375, 416, 435, 68, 215, 385, 458, 229, 150, 116, 139, 256, 239, 266, 203, 25, 161, 175, 135, 142, 323, 291, 137, 314, 243, 478, 2, 477]\n"
     ]
    },
    {
     "name": "stderr",
     "output_type": "stream",
     "text": [
      "\n"
     ]
    }
   ],
   "source": [
    "import pandas as pd\n",
    "import numpy as np\n",
    "import requests\n",
    "from tqdm import tqdm\n",
    "\n",
    "CASE_URL = \"https://api.vitaldb.net/cases\"\n",
    "TRACK_URL = \"https://api.vitaldb.net/trks\"\n",
    "DATA_URL = \"https://api.vitaldb.net/{}\"\n",
    "\n",
    "PARAMETERS = {\n",
    "    'Solar8000/HR': 'Heart Rate',\n",
    "    'Solar8000/ART_MBP': 'Arterial BP',\n",
    "    'Solar8000/PLETH_SPO2': 'Oxygen Saturation',\n",
    "    'Solar8000/ETCO2': 'End-Tidal CO2',\n",
    "    'Solar8000/RR': 'Respiratory Rate',\n",
    "    'Solar8000/PLETH_HR': 'Pleth HR',\n",
    "    'Solar8000/ART_SBP': 'Systolic BP',\n",
    "    'Solar8000/ART_DBP': 'Diastolic BP',\n",
    "    'Solar8000/NIBP_MBP': 'NIBP Mean BP',\n",
    "    'Solar8000/CVP': 'Central Venous Pressure',\n",
    "    'Vigileo/CO': 'Cardiac Output',\n",
    "    'Vigileo/SV': 'Stroke Volume',\n",
    "    'Vigilance/HR_AVG': 'Average HR',\n",
    "    'CardioQ/HR': 'CardioQ HR'\n",
    "}\n",
    "\n",
    "cases_df = pd.read_csv(CASE_URL)\n",
    "all_caseids = cases_df['caseid'].unique().tolist()[:500]  # Limit to 500 cases\n",
    "\n",
    "\n",
    "tracks_df = pd.read_csv(TRACK_URL)\n",
    "filtered_tracks = tracks_df[\n",
    "    (tracks_df['caseid'].isin(all_caseids)) &\n",
    "    (tracks_df['tname'].isin(PARAMETERS.keys()))\n",
    "]\n",
    "\n",
    "grouped = filtered_tracks.groupby('caseid')\n",
    "\n",
    "results = []\n",
    "\n",
    "for caseid, group in tqdm(grouped, desc=\"Analyzing Correlations\"):\n",
    "    dfs = {}\n",
    "    for _, row in group.iterrows():\n",
    "        tname = row['tname']\n",
    "        label = PARAMETERS[tname]\n",
    "\n",
    "        df = pd.read_csv(DATA_URL.format(row['tid']), header=None, names=['time', 'value'])\n",
    "        df = df.dropna()\n",
    "        df['time'] = pd.to_numeric(df['time'], errors='coerce')\n",
    "        df['value'] = pd.to_numeric(df['value'], errors='coerce')\n",
    "        df = df.dropna()\n",
    "        df['bin'] = (df['time'] // 900).astype(int)\n",
    "        df = df.groupby('bin')['value'].mean().reset_index()\n",
    "        dfs[label] = df.set_index('bin')['value']\n",
    "\n",
    "\n",
    "    if 'Heart Rate' not in dfs or len(dfs) < 2:\n",
    "        continue\n",
    "\n",
    "    merged_df = pd.DataFrame(dfs).dropna()\n",
    "    if merged_df.shape[0] < 2:\n",
    "        continue\n",
    "\n",
    "    corrs = merged_df.corr()['Heart Rate'].drop('Heart Rate', errors='ignore')\n",
    "    if corrs.empty:\n",
    "        continue\n",
    "\n",
    "    strongest = corrs.abs().max()\n",
    "    results.append((caseid, strongest))\n",
    "\n",
    "#  Return top 20 strongest correlations \n",
    "top20 = sorted(results, key=lambda x: x[1], reverse=True)[:50]\n",
    "top20_caseids = [caseid for caseid, _ in top20]\n",
    "print(\"Top 20 correlated case IDs:\", top20_caseids)\n"
   ]
  },
  {
   "cell_type": "code",
   "execution_count": 1,
   "id": "65d5aee5",
   "metadata": {},
   "outputs": [
    {
     "name": "stdout",
     "output_type": "stream",
     "text": [
      "📥 Downloading track metadata...\n"
     ]
    },
    {
     "name": "stderr",
     "output_type": "stream",
     "text": [
      "Cases:   0%|          | 0/25 [00:00<?, ?it/s]"
     ]
    },
    {
     "name": "stdout",
     "output_type": "stream",
     "text": [
      "[Case 25 - Diastolic BP] Error loading tid 6b85159a14baf492708289e3a20a9f7c29108533: HTTP Error 403: Forbidden\n",
      "[Case 25 - Arterial BP] Error loading tid 86e7ee91a60039136ed5c3c64ce6e9a2052495be: HTTP Error 403: Forbidden\n",
      "[Case 25 - Systolic BP] Error loading tid a5f6c3e020f7d8a9c7f2ffe116c3257a32ff95fb: HTTP Error 403: Forbidden\n",
      "[Case 25 - End-Tidal CO2] Error loading tid d17bd79d8f74f318410dbf8018034a2aa6dff015: HTTP Error 403: Forbidden\n",
      "[Case 25 - Heart Rate] Error loading tid c5ffe2448269dc898f31e25c2ad3a1b6c79f62a0: HTTP Error 403: Forbidden\n",
      "[Case 25 - NIBP Mean BP] Error loading tid 3deb3575de30da54df55c9b502454466cd4788d1: HTTP Error 403: Forbidden\n",
      "[Case 25 - Pleth HR] Error loading tid 9d17636f4a7047e86cf7fb95356925d829ff5ef2: HTTP Error 403: Forbidden\n"
     ]
    },
    {
     "name": "stderr",
     "output_type": "stream",
     "text": [
      "Cases:   4%|▍         | 1/25 [00:05<02:00,  5.03s/it]"
     ]
    },
    {
     "name": "stdout",
     "output_type": "stream",
     "text": [
      "[Case 25 - Oxygen Saturation] Error loading tid 16ceb678a45e36a173b621792df2973e4918a41d: HTTP Error 403: Forbidden\n",
      "[Case 58 - Diastolic BP] Error loading tid ffa1843212257085240aa41b92d4fdc49e290656: HTTP Error 403: Forbidden\n",
      "[Case 58 - Arterial BP] Error loading tid 7ddfb5fa2e94f725e347fc4d2455901d2b2030ef: HTTP Error 403: Forbidden\n",
      "[Case 58 - Systolic BP] Error loading tid 42e03641eb91128c7d2309761338f18b4981d5f1: HTTP Error 403: Forbidden\n",
      "[Case 58 - Central Venous Pressure] Error loading tid 347ec34242d9b1a17a6edb876fbc7cbebf3a4d9a: HTTP Error 403: Forbidden\n",
      "[Case 58 - End-Tidal CO2] Error loading tid 53e967993820d9efb9070959191b79f744c4cdb7: HTTP Error 403: Forbidden\n",
      "[Case 58 - Heart Rate] Error loading tid 312e87b2d3866c888dc1687ff64c51750186eb06: HTTP Error 403: Forbidden\n",
      "[Case 58 - NIBP Mean BP] Error loading tid 7422de2319c8ad219645400d83ed83f54bc0a335: HTTP Error 403: Forbidden\n",
      "[Case 58 - Pleth HR] Error loading tid b0a5b6d608a6f9b2d8bd6b83da6a968196e52bf6: HTTP Error 403: Forbidden\n"
     ]
    },
    {
     "name": "stderr",
     "output_type": "stream",
     "text": [
      "Cases:   8%|▊         | 2/25 [00:10<02:00,  5.23s/it]"
     ]
    },
    {
     "name": "stdout",
     "output_type": "stream",
     "text": [
      "[Case 58 - Oxygen Saturation] Error loading tid cb6d1c04f4afa05dc0132b4fc8a22baa4fcaf035: HTTP Error 403: Forbidden\n",
      "[Case 68 - Diastolic BP] Error loading tid 96f9e63702e90cf2b5f35340c46e2fd3c7c2e528: HTTP Error 403: Forbidden\n",
      "[Case 68 - Arterial BP] Error loading tid 2ec97e4308ffc47e33f11c555a8eb9e9c9a02cd0: HTTP Error 403: Forbidden\n",
      "[Case 68 - Systolic BP] Error loading tid daf5471b42ccec43b71b52cfe246e51c7a5074ba: HTTP Error 403: Forbidden\n",
      "[Case 68 - End-Tidal CO2] Error loading tid b81bf50b6c633feb77fac170e138879910c67db4: HTTP Error 403: Forbidden\n",
      "[Case 68 - Heart Rate] Error loading tid 79be1fe0fb232e93517a00f94cdf4ff4f6abca2c: HTTP Error 403: Forbidden\n",
      "[Case 68 - NIBP Mean BP] Error loading tid bd7f6a767aeb08e48850ec48c80eac86cdc055e3: HTTP Error 403: Forbidden\n",
      "[Case 68 - Pleth HR] Error loading tid c1ca369b7182be95bfb89ce3d3867b5fb9ea94cc: HTTP Error 403: Forbidden\n",
      "[Case 68 - Oxygen Saturation] Error loading tid e09c88c8a2f5136474a84079dde17c4c495d6ee5: HTTP Error 403: Forbidden\n",
      "[Case 68 - Cardiac Output] Error loading tid b68095e70fa12cb995439695f6d1ff3c05649cf8: HTTP Error 403: Forbidden\n"
     ]
    },
    {
     "name": "stderr",
     "output_type": "stream",
     "text": [
      "Cases:  12%|█▏        | 3/25 [00:16<02:01,  5.52s/it]"
     ]
    },
    {
     "name": "stdout",
     "output_type": "stream",
     "text": [
      "[Case 68 - Stroke Volume] Error loading tid f486926052b4d425077366ce3f5cb6ee4ee0a7fc: HTTP Error 403: Forbidden\n",
      "[Case 92 - Diastolic BP] Error loading tid 4fb0c23f99899dfd6b59c322990231c979c6fd12: HTTP Error 403: Forbidden\n",
      "[Case 92 - Arterial BP] Error loading tid fa47ef2a5a0db04e71715f5ed26afbb1bfba7902: HTTP Error 403: Forbidden\n",
      "[Case 92 - Systolic BP] Error loading tid 65329f94bfd8fbc54097ee56a7f29e1515f63bd0: HTTP Error 403: Forbidden\n",
      "[Case 92 - End-Tidal CO2] Error loading tid 613f7c669e2aaa5547c99cc4bc1391df22bd8114: HTTP Error 403: Forbidden\n",
      "[Case 92 - Heart Rate] Error loading tid c2ef88ce6e81923d094131a679c12b1503c1fb51: HTTP Error 403: Forbidden\n",
      "[Case 92 - NIBP Mean BP] Error loading tid 54c7f2f5c67eb52173adf66ff1eb14613574c3a7: HTTP Error 403: Forbidden\n",
      "[Case 92 - Pleth HR] Error loading tid 55b956999d63d07ed0030e4e955f0aa9805ea4a2: HTTP Error 403: Forbidden\n"
     ]
    },
    {
     "name": "stderr",
     "output_type": "stream",
     "text": [
      "Cases:  16%|█▌        | 4/25 [00:21<01:49,  5.22s/it]"
     ]
    },
    {
     "name": "stdout",
     "output_type": "stream",
     "text": [
      "[Case 92 - Oxygen Saturation] Error loading tid d0e21f97476365282a3c5c4dd9bf07baf0ad3933: HTTP Error 403: Forbidden\n",
      "[Case 96 - Diastolic BP] Error loading tid ddcaf4ac92f19b08fae33e85a823aed3ddde2fa3: HTTP Error 403: Forbidden\n",
      "[Case 96 - Arterial BP] Error loading tid eb6dea1ff041ad57bf90330b47f990a84e679a8d: HTTP Error 403: Forbidden\n",
      "[Case 96 - Systolic BP] Error loading tid 07dd39010221ac42dd6ca623412735b634327204: HTTP Error 403: Forbidden\n",
      "[Case 96 - End-Tidal CO2] Error loading tid 3151a71d443b352e7a4424ea7f7f1de259ddc295: HTTP Error 403: Forbidden\n",
      "[Case 96 - Heart Rate] Error loading tid 4f52d03e307ed9cc9231a9bdde320ae7e5e06aa7: HTTP Error 403: Forbidden\n",
      "[Case 96 - NIBP Mean BP] Error loading tid a661b9d1b4db4e5e265f65acd0c65d3e4ddb05e0: HTTP Error 403: Forbidden\n",
      "[Case 96 - Pleth HR] Error loading tid b0205fb86374c4e729301df9501d715d82e72e4d: HTTP Error 403: Forbidden\n",
      "[Case 96 - Oxygen Saturation] Error loading tid c6f1b8a0ad5abd1f75a989ae6fae3a5291c66b95: HTTP Error 403: Forbidden\n"
     ]
    },
    {
     "name": "stderr",
     "output_type": "stream",
     "text": [
      "Cases:  20%|██        | 5/25 [00:26<01:44,  5.25s/it]"
     ]
    },
    {
     "name": "stdout",
     "output_type": "stream",
     "text": [
      "[Case 96 - Respiratory Rate] Error loading tid 8f67ebfa460f0e99d7d8500194ad591cee50ff1b: HTTP Error 403: Forbidden\n",
      "[Case 116 - Diastolic BP] Error loading tid edd11e143c09708f9e6ed59bf2a9c01da85ee75b: HTTP Error 403: Forbidden\n",
      "[Case 116 - Arterial BP] Error loading tid 24984a837c7477603476df77cd466e2b9f834633: HTTP Error 403: Forbidden\n",
      "[Case 116 - Systolic BP] Error loading tid 9ce2553804c89126bd97a9a861d4bcd1e33e8289: HTTP Error 403: Forbidden\n",
      "[Case 116 - End-Tidal CO2] Error loading tid cb1025a9b980ce233a087bf7a7d81eaae494dc37: HTTP Error 403: Forbidden\n",
      "[Case 116 - Heart Rate] Error loading tid 8f2d7bf85da60bbcfc5974206c61e6628ab7cdf6: HTTP Error 403: Forbidden\n",
      "[Case 116 - NIBP Mean BP] Error loading tid ca4c5233be815f160c0805e94a6afdc1f1f75f70: HTTP Error 403: Forbidden\n",
      "[Case 116 - Pleth HR] Error loading tid ae0f3ef5500007c2f3bfd621588ddbd3351afe87: HTTP Error 403: Forbidden\n"
     ]
    },
    {
     "name": "stderr",
     "output_type": "stream",
     "text": [
      "Cases:  24%|██▍       | 6/25 [00:30<01:35,  5.05s/it]"
     ]
    },
    {
     "name": "stdout",
     "output_type": "stream",
     "text": [
      "[Case 116 - Oxygen Saturation] Error loading tid 7cd00c16bd420ab96edc0046b575c748a66f4f32: HTTP Error 403: Forbidden\n",
      "[Case 135 - Diastolic BP] Error loading tid e2371b9c8bd6a7938fc9e84078b2d446198c1bfa: HTTP Error 403: Forbidden\n",
      "[Case 135 - Arterial BP] Error loading tid 0ce544caf6204a26e4d549c7e14b339f11ea8b8f: HTTP Error 403: Forbidden\n",
      "[Case 135 - Systolic BP] Error loading tid 278e30331295908b431485103b54a5b06b552107: HTTP Error 403: Forbidden\n",
      "[Case 135 - End-Tidal CO2] Error loading tid 3734724be41e1744ceb36abf3f96ade539d22905: HTTP Error 403: Forbidden\n",
      "[Case 135 - Heart Rate] Error loading tid 57cde1dd3817740465069adbfd676a74a1a9d5c4: HTTP Error 403: Forbidden\n",
      "[Case 135 - NIBP Mean BP] Error loading tid 4be1fa2f76bbc05ece02583f4906a9584ccead85: HTTP Error 403: Forbidden\n",
      "[Case 135 - Pleth HR] Error loading tid e95efa0ad698e52117f2e61ef794dffa575e31cb: HTTP Error 403: Forbidden\n",
      "[Case 135 - Oxygen Saturation] Error loading tid f2099b292691f9a78699cb136420539cfc5a107f: HTTP Error 403: Forbidden\n"
     ]
    },
    {
     "name": "stderr",
     "output_type": "stream",
     "text": [
      "Cases:  28%|██▊       | 7/25 [00:36<01:32,  5.13s/it]"
     ]
    },
    {
     "name": "stdout",
     "output_type": "stream",
     "text": [
      "[Case 135 - Respiratory Rate] Error loading tid 5a179d6ab926546b67fd6381ff373c8497c8923f: HTTP Error 403: Forbidden\n",
      "[Case 137 - Diastolic BP] Error loading tid f20e41b8b91d6960f4d065650707380c1092401c: HTTP Error 403: Forbidden\n",
      "[Case 137 - Arterial BP] Error loading tid 4c02bc107dd79fd5ffd3c5f1840f969e13d65bf1: HTTP Error 403: Forbidden\n",
      "[Case 137 - Systolic BP] Error loading tid ecf2fdf532735f70adc346bd5ded72649a6b1bb8: HTTP Error 403: Forbidden\n",
      "[Case 137 - End-Tidal CO2] Error loading tid 54fc7122f8360e07ddddb8f578a1da1750e92ca5: HTTP Error 403: Forbidden\n",
      "[Case 137 - Heart Rate] Error loading tid 2c9c3c8b74a695e889cd40afc037e8a5517ba3e2: HTTP Error 403: Forbidden\n",
      "[Case 137 - NIBP Mean BP] Error loading tid 145d4f90c2ce997a826d1a2a6207cb59f92cc2a5: HTTP Error 403: Forbidden\n",
      "[Case 137 - Pleth HR] Error loading tid 8e6833fd9edff9f5a7e0f3da1c1dc9550f7cc877: HTTP Error 403: Forbidden\n"
     ]
    },
    {
     "name": "stderr",
     "output_type": "stream",
     "text": [
      "Cases:  32%|███▏      | 8/25 [00:41<01:25,  5.02s/it]"
     ]
    },
    {
     "name": "stdout",
     "output_type": "stream",
     "text": [
      "[Case 137 - Oxygen Saturation] Error loading tid 83b4faac15243b746135f58d9f02b0305ba8d038: HTTP Error 403: Forbidden\n",
      "[Case 142 - Diastolic BP] Error loading tid da6517a2c39679a8ac3a5236a1fc2b40406a8efe: HTTP Error 403: Forbidden\n",
      "[Case 142 - Arterial BP] Error loading tid 1457a684eb0da4a81269d2d9043d38c15c0541d6: HTTP Error 403: Forbidden\n",
      "[Case 142 - Systolic BP] Error loading tid 8653879d38fe3fb6dd0ac49427a092b28d230b05: HTTP Error 403: Forbidden\n",
      "[Case 142 - End-Tidal CO2] Error loading tid 46c3d460be010180630d5035dcea4b5b2863f2b2: HTTP Error 403: Forbidden\n",
      "[Case 142 - Heart Rate] Error loading tid e5ffedafa3c8a4bb38937a3397b54b9bf1648667: HTTP Error 403: Forbidden\n",
      "[Case 142 - NIBP Mean BP] Error loading tid 696d87ff7579ef7a098eaab88c55c0ed781a8c07: HTTP Error 403: Forbidden\n",
      "[Case 142 - Pleth HR] Error loading tid 6bedec7cb3892e432148a95fe790f97d254a2130: HTTP Error 403: Forbidden\n",
      "[Case 142 - Oxygen Saturation] Error loading tid 37b40f933c2a0bd105b177d67299c806b3ee3c41: HTTP Error 403: Forbidden\n"
     ]
    },
    {
     "name": "stderr",
     "output_type": "stream",
     "text": [
      "Cases:  36%|███▌      | 9/25 [00:46<01:22,  5.16s/it]"
     ]
    },
    {
     "name": "stdout",
     "output_type": "stream",
     "text": [
      "[Case 142 - Respiratory Rate] Error loading tid 8ae4d1c45d05ce0b2a76472827ec19a673d07533: HTTP Error 403: Forbidden\n",
      "[Case 161 - Diastolic BP] Error loading tid e76fa55c2c09d151c9c9f197f721f23c565e6c38: HTTP Error 403: Forbidden\n",
      "[Case 161 - Arterial BP] Error loading tid e4b3e06b9f5f89803410f93b3d7f8c20c815334d: HTTP Error 403: Forbidden\n",
      "[Case 161 - Systolic BP] Error loading tid db054bea926efa7b4a380864dc2b8cbfab8b7689: HTTP Error 403: Forbidden\n",
      "[Case 161 - End-Tidal CO2] Error loading tid 1bf760bb07835dc2d06b40de3a38c080d8d09352: HTTP Error 403: Forbidden\n",
      "[Case 161 - Heart Rate] Error loading tid 2750878b67104157b5cd7cf75584fbb0c0af08a3: HTTP Error 403: Forbidden\n",
      "[Case 161 - NIBP Mean BP] Error loading tid 02d27ccf9947694284620a87c52faca4a50338de: HTTP Error 403: Forbidden\n",
      "[Case 161 - Pleth HR] Error loading tid 48abca3513a08e7f48525fc1332ccdd27e3f13d8: HTTP Error 403: Forbidden\n",
      "[Case 161 - Oxygen Saturation] Error loading tid 4652837c7c4958316399908d74fc80383f812bf4: HTTP Error 403: Forbidden\n"
     ]
    },
    {
     "name": "stderr",
     "output_type": "stream",
     "text": [
      "Cases:  40%|████      | 10/25 [00:51<01:17,  5.19s/it]"
     ]
    },
    {
     "name": "stdout",
     "output_type": "stream",
     "text": [
      "[Case 161 - Respiratory Rate] Error loading tid 4283459366ec7c0d2a1bd756db0c20e71854aa10: HTTP Error 403: Forbidden\n",
      "[Case 203 - Diastolic BP] Error loading tid 63cc5bb44f5685d389c9fa335e7d6a4fc4dfca92: HTTP Error 403: Forbidden\n",
      "[Case 203 - Arterial BP] Error loading tid 5d1a1418bc46abf151396506e7d94347b739d163: HTTP Error 403: Forbidden\n",
      "[Case 203 - Systolic BP] Error loading tid fe49f170a11b5ac001617eb7ad43b41ac6a87718: HTTP Error 403: Forbidden\n",
      "[Case 203 - End-Tidal CO2] Error loading tid cb1d4e6448837117680d81f02914e9c57fcf507d: HTTP Error 403: Forbidden\n",
      "[Case 203 - Heart Rate] Error loading tid 39eea9d47db69d8c7ab8348a3c91f9bd7c75bc5f: HTTP Error 403: Forbidden\n",
      "[Case 203 - NIBP Mean BP] Error loading tid a218e872c5a8d25caa3743bd3291770f1f3abff4: HTTP Error 403: Forbidden\n",
      "[Case 203 - Pleth HR] Error loading tid ac107e6cb783449e5813d1121b8201520a667e80: HTTP Error 403: Forbidden\n",
      "[Case 203 - Oxygen Saturation] Error loading tid 72378246f724d6179284ce1ad609af789f1904f2: HTTP Error 403: Forbidden\n"
     ]
    },
    {
     "name": "stderr",
     "output_type": "stream",
     "text": [
      "Cases:  44%|████▍     | 11/25 [00:57<01:13,  5.22s/it]"
     ]
    },
    {
     "name": "stdout",
     "output_type": "stream",
     "text": [
      "[Case 203 - Respiratory Rate] Error loading tid 5fbf74bb8617af2e8e5876fdff57b6c843d8ca1b: HTTP Error 403: Forbidden\n",
      "[Case 229 - Diastolic BP] Error loading tid 9ded768d15d84cdc31c99f8dd0011f0223e91296: HTTP Error 403: Forbidden\n",
      "[Case 229 - Arterial BP] Error loading tid bd25f413dd6baadb91e4e6273e6d455a7a037d9d: HTTP Error 403: Forbidden\n",
      "[Case 229 - Systolic BP] Error loading tid bcae6d0b1c868fbb41698253502656e1a79055d0: HTTP Error 403: Forbidden\n",
      "[Case 229 - End-Tidal CO2] Error loading tid f2372f96d261af4383da8ea31b58e1489afee211: HTTP Error 403: Forbidden\n",
      "[Case 229 - Heart Rate] Error loading tid 48d0cd31f91429c18e2cb3b5b0c341b80463a850: HTTP Error 403: Forbidden\n",
      "[Case 229 - NIBP Mean BP] Error loading tid 737e2f06f434af2360f068efdd91f03dd5ea6d9a: HTTP Error 403: Forbidden\n",
      "[Case 229 - Pleth HR] Error loading tid 9718fbf051a950d1520382bba03fca7f032a18a4: HTTP Error 403: Forbidden\n",
      "[Case 229 - Oxygen Saturation] Error loading tid 0987d0fad30fa9d1a21eefd5bff5ab0423fb950d: HTTP Error 403: Forbidden\n"
     ]
    },
    {
     "name": "stderr",
     "output_type": "stream",
     "text": [
      "Cases:  48%|████▊     | 12/25 [01:02<01:08,  5.24s/it]"
     ]
    },
    {
     "name": "stdout",
     "output_type": "stream",
     "text": [
      "[Case 229 - Respiratory Rate] Error loading tid feae6ed4fb7a33abc5f614c8a10537a3f68c2a40: HTTP Error 403: Forbidden\n",
      "[Case 239 - Diastolic BP] Error loading tid fd4ad149843abd429e08f01f9ff3549159d06eb9: HTTP Error 403: Forbidden\n",
      "[Case 239 - Arterial BP] Error loading tid 34141aab3e38eb1abc19ec306e5e73a9bac79578: HTTP Error 403: Forbidden\n",
      "[Case 239 - Systolic BP] Error loading tid 51097efc767dfabfc66567dac18342a124a97cc9: HTTP Error 403: Forbidden\n",
      "[Case 239 - End-Tidal CO2] Error loading tid 853073ec8b5a693a4e94828796c8b793f47134d0: HTTP Error 403: Forbidden\n",
      "[Case 239 - Heart Rate] Error loading tid d51143e3fc215b8cf0abb67fa87f2abcced07090: HTTP Error 403: Forbidden\n",
      "[Case 239 - NIBP Mean BP] Error loading tid 277501d16676181b3653243e472eb6b994a07100: HTTP Error 403: Forbidden\n",
      "[Case 239 - Pleth HR] Error loading tid b27238050cbc7181e7e17543dfdc6eb60504f071: HTTP Error 403: Forbidden\n"
     ]
    },
    {
     "name": "stderr",
     "output_type": "stream",
     "text": [
      "Cases:  52%|█████▏    | 13/25 [01:07<01:00,  5.08s/it]"
     ]
    },
    {
     "name": "stdout",
     "output_type": "stream",
     "text": [
      "[Case 239 - Oxygen Saturation] Error loading tid 616ebf92185bfa5ef39ea023560242753fce70b0: HTTP Error 403: Forbidden\n",
      "[Case 243 - Diastolic BP] Error loading tid c5e5c57c8ed13591403807a347e7ce65fb65a236: HTTP Error 403: Forbidden\n",
      "[Case 243 - Arterial BP] Error loading tid bf43e7b5cc34df5f4bf7d6a4756e816ddaa57519: HTTP Error 403: Forbidden\n",
      "[Case 243 - Systolic BP] Error loading tid 54b76aa7c8396c9e6c3c133ed2329801e81eefbd: HTTP Error 403: Forbidden\n",
      "[Case 243 - End-Tidal CO2] Error loading tid 060ba947a6893935fcf3720d2a8a94415e9b814d: HTTP Error 403: Forbidden\n",
      "[Case 243 - Heart Rate] Error loading tid f517854b69d8b631332b522a80b96283efaf39ed: HTTP Error 403: Forbidden\n",
      "[Case 243 - NIBP Mean BP] Error loading tid d4e4b79f75d5a5ccdc902973d2443ad2e5d66ab3: HTTP Error 403: Forbidden\n",
      "[Case 243 - Pleth HR] Error loading tid 81856eed4134af60c738666435786d6b3be96258: HTTP Error 403: Forbidden\n"
     ]
    },
    {
     "name": "stderr",
     "output_type": "stream",
     "text": [
      "Cases:  56%|█████▌    | 14/25 [01:11<00:54,  4.97s/it]"
     ]
    },
    {
     "name": "stdout",
     "output_type": "stream",
     "text": [
      "[Case 243 - Oxygen Saturation] Error loading tid 00195841a2abc0a74864c83bfc2a96f87b48527c: HTTP Error 403: Forbidden\n",
      "[Case 256 - Diastolic BP] Error loading tid cc7d2f84fc04ce1a2d610bfea960ba0094209c75: HTTP Error 403: Forbidden\n",
      "[Case 256 - Arterial BP] Error loading tid 44d619067f8734ffd1f25b2074213974d31eb288: HTTP Error 403: Forbidden\n",
      "[Case 256 - Systolic BP] Error loading tid d8b40532ef25452f14bed3040e6e81d3549e750b: HTTP Error 403: Forbidden\n",
      "[Case 256 - End-Tidal CO2] Error loading tid f4708aee2737079266b4b8d100a9ba5e067ba708: HTTP Error 403: Forbidden\n",
      "[Case 256 - Heart Rate] Error loading tid d9e355c49bd415ac5ea83ddf61224f108e4ee46a: HTTP Error 403: Forbidden\n",
      "[Case 256 - NIBP Mean BP] Error loading tid 5e952db8dc89d86518d30149ca76f346b4ef7fee: HTTP Error 403: Forbidden\n",
      "[Case 256 - Pleth HR] Error loading tid 399527791779bc165752d64f1c1b14c142c154fd: HTTP Error 403: Forbidden\n",
      "[Case 256 - Oxygen Saturation] Error loading tid d77b6eab406f1d18b077ad5478bf9519047a44f8: HTTP Error 403: Forbidden\n"
     ]
    },
    {
     "name": "stderr",
     "output_type": "stream",
     "text": [
      "Cases:  60%|██████    | 15/25 [01:17<00:50,  5.06s/it]"
     ]
    },
    {
     "name": "stdout",
     "output_type": "stream",
     "text": [
      "[Case 256 - Respiratory Rate] Error loading tid 24040981bf023ab328c0301bf6fbbf01f2a6634d: HTTP Error 403: Forbidden\n",
      "[Case 266 - Diastolic BP] Error loading tid 9badee466efed7b36f06cc9db61c235bf44f327e: HTTP Error 403: Forbidden\n",
      "[Case 266 - Arterial BP] Error loading tid c84c9b361f2c594662e6425f55a348b6011c09d8: HTTP Error 403: Forbidden\n",
      "[Case 266 - Systolic BP] Error loading tid 66d9de54cbeee71ce55a66db7b5a842ec23d4dcd: HTTP Error 403: Forbidden\n",
      "[Case 266 - End-Tidal CO2] Error loading tid 5717b5d059fa322c09f3ccb4038910b1d3089fef: HTTP Error 403: Forbidden\n",
      "[Case 266 - Heart Rate] Error loading tid 0f4fe665fee4db9cc405e140d5b870fd6a07a2b9: HTTP Error 403: Forbidden\n",
      "[Case 266 - NIBP Mean BP] Error loading tid 440ddfeacfa127056ff19306b074d49821fe7e64: HTTP Error 403: Forbidden\n",
      "[Case 266 - Pleth HR] Error loading tid b8e1edb6c8224d5992a08266a44cfbc239fcc49c: HTTP Error 403: Forbidden\n",
      "[Case 266 - Oxygen Saturation] Error loading tid 953b6e660b0c724f9015bbd22ad14f04429e5374: HTTP Error 403: Forbidden\n"
     ]
    },
    {
     "name": "stderr",
     "output_type": "stream",
     "text": [
      "Cases:  64%|██████▍   | 16/25 [01:22<00:46,  5.13s/it]"
     ]
    },
    {
     "name": "stdout",
     "output_type": "stream",
     "text": [
      "[Case 266 - Respiratory Rate] Error loading tid 86a984d1f404fd3f7b012983554fbc74ec189760: HTTP Error 403: Forbidden\n",
      "[Case 279 - Diastolic BP] Error loading tid 211e5b75abb0f1c5fcd16af2ec4799d73a49e8f1: HTTP Error 403: Forbidden\n",
      "[Case 279 - Arterial BP] Error loading tid 799ebd8d366ac179d4c3b87017f596fdfb8f38e2: HTTP Error 403: Forbidden\n",
      "[Case 279 - Systolic BP] Error loading tid 4433d1a1851cc3ccc4671825aaca8c95c1b8a054: HTTP Error 403: Forbidden\n",
      "[Case 279 - End-Tidal CO2] Error loading tid 814049467f667894a9e9cb647d4905ef939e05d7: HTTP Error 403: Forbidden\n",
      "[Case 279 - Heart Rate] Error loading tid 34c8e20b81bcfd092528baa507e78d4cb35cdd83: HTTP Error 403: Forbidden\n",
      "[Case 279 - NIBP Mean BP] Error loading tid 34e2737da90255b69a6d3667e494499d8ab57532: HTTP Error 403: Forbidden\n",
      "[Case 279 - Pleth HR] Error loading tid df20b37d1254f2547c4fde7a6360b66794881033: HTTP Error 403: Forbidden\n",
      "[Case 279 - Oxygen Saturation] Error loading tid b1972301e1af8c70279bd4d42ac85d6ecddab437: HTTP Error 403: Forbidden\n"
     ]
    },
    {
     "name": "stderr",
     "output_type": "stream",
     "text": [
      "Cases:  68%|██████▊   | 17/25 [01:27<00:41,  5.20s/it]"
     ]
    },
    {
     "name": "stdout",
     "output_type": "stream",
     "text": [
      "[Case 279 - Respiratory Rate] Error loading tid 7893912370428f6b91718ec42653f721a1eefdb3: HTTP Error 403: Forbidden\n",
      "[Case 323 - Diastolic BP] Error loading tid b73c9941545dd586f3fd9e5c1f8726283057f494: HTTP Error 403: Forbidden\n",
      "[Case 323 - Arterial BP] Error loading tid 0cd91c17d1600c3c55042f4bc096139e11105242: HTTP Error 403: Forbidden\n",
      "[Case 323 - Systolic BP] Error loading tid 6bf3f6a4f8082f909e90f844e6a0a97f2b71328d: HTTP Error 403: Forbidden\n",
      "[Case 323 - End-Tidal CO2] Error loading tid 20e54d3690a3b0de36fca0729f33e79bb69aad48: HTTP Error 403: Forbidden\n",
      "[Case 323 - Heart Rate] Error loading tid 8581ce2921a493f92d7984fa8893460c782831cf: HTTP Error 403: Forbidden\n",
      "[Case 323 - NIBP Mean BP] Error loading tid 81ae75decee113ea6204e79b3ee3e8a74136ae5f: HTTP Error 403: Forbidden\n",
      "[Case 323 - Pleth HR] Error loading tid 130e5f666b7a2c27d98bf86757b3781c5392ea9f: HTTP Error 403: Forbidden\n",
      "[Case 323 - Oxygen Saturation] Error loading tid 0014da6bea6a08ec9232cfb1fddd8930e54d47e3: HTTP Error 403: Forbidden\n"
     ]
    },
    {
     "name": "stderr",
     "output_type": "stream",
     "text": [
      "Cases:  72%|███████▏  | 18/25 [01:33<00:37,  5.40s/it]"
     ]
    },
    {
     "name": "stdout",
     "output_type": "stream",
     "text": [
      "[Case 323 - Respiratory Rate] Error loading tid bec9e6726c097efdd6a97434fe1544c19af0a416: HTTP Error 403: Forbidden\n",
      "[Case 375 - Diastolic BP] Error loading tid d518b8fcf7908573d52fd0fc1141cf569fcdf803: HTTP Error 403: Forbidden\n",
      "[Case 375 - Arterial BP] Error loading tid 93f86f2e9654352ebf56d9b3e06fe4b53f049dd2: HTTP Error 403: Forbidden\n",
      "[Case 375 - Systolic BP] Error loading tid 39df4903ac774b6a2e138e323eacd9f405028b43: HTTP Error 403: Forbidden\n",
      "[Case 375 - Central Venous Pressure] Error loading tid 24fab749db1b2bb2e594fd312f6c5eb9917dc9b9: HTTP Error 403: Forbidden\n",
      "[Case 375 - End-Tidal CO2] Error loading tid 366e986dab395745f81ff642498f9b7f1bda1aba: HTTP Error 403: Forbidden\n",
      "[Case 375 - Heart Rate] Error loading tid f3a85f10f0764228b4df4314a39ace2e5028dc31: HTTP Error 403: Forbidden\n",
      "[Case 375 - NIBP Mean BP] Error loading tid cd4f6c005e690098e5d224fbd9f6fdb1bc5a5c41: HTTP Error 403: Forbidden\n",
      "[Case 375 - Pleth HR] Error loading tid 0b4caaea237ddf3299020e06e14b433f367a177b: HTTP Error 403: Forbidden\n",
      "[Case 375 - Oxygen Saturation] Error loading tid 3dbb117b27794f79c061717bf4d8f8b114c0ca82: HTTP Error 403: Forbidden\n"
     ]
    },
    {
     "name": "stderr",
     "output_type": "stream",
     "text": [
      "Cases:  76%|███████▌  | 19/25 [01:39<00:33,  5.53s/it]"
     ]
    },
    {
     "name": "stdout",
     "output_type": "stream",
     "text": [
      "[Case 375 - Respiratory Rate] Error loading tid d0b88390aa2490272c7bb6933fdb37c4ed64efd9: HTTP Error 403: Forbidden\n",
      "[Case 384 - Diastolic BP] Error loading tid 0c46d2cc2be5d98163f7fb6c45015b06cf415cca: HTTP Error 403: Forbidden\n",
      "[Case 384 - Arterial BP] Error loading tid f837bceedbace78bcd685273b851bc74cc2728dd: HTTP Error 403: Forbidden\n",
      "[Case 384 - Systolic BP] Error loading tid 6f34b7711b0ce4dcd7e44c7d1671ab0b3d5edcfb: HTTP Error 403: Forbidden\n",
      "[Case 384 - End-Tidal CO2] Error loading tid bd03b806a6c0adab2d1c87e47273922aebb6c1c7: HTTP Error 403: Forbidden\n",
      "[Case 384 - Heart Rate] Error loading tid 312cf6b97180fb33d068e6b1fe56d4084591aa08: HTTP Error 403: Forbidden\n",
      "[Case 384 - NIBP Mean BP] Error loading tid 256cdc401581e7822584db2a70f91b1543e5fb8e: HTTP Error 403: Forbidden\n",
      "[Case 384 - Pleth HR] Error loading tid bb353d421c6c714658508d1b9a89a1de50ac2412: HTTP Error 403: Forbidden\n"
     ]
    },
    {
     "name": "stderr",
     "output_type": "stream",
     "text": [
      "Cases:  80%|████████  | 20/25 [01:44<00:26,  5.28s/it]"
     ]
    },
    {
     "name": "stdout",
     "output_type": "stream",
     "text": [
      "[Case 384 - Oxygen Saturation] Error loading tid 294b7bb2d61c49bb962c8ddcbe2bdc8ad2828b61: HTTP Error 403: Forbidden\n",
      "[Case 413 - Diastolic BP] Error loading tid be7d5340d2b6901e71f63585ccee657db4633fad: HTTP Error 403: Forbidden\n",
      "[Case 413 - Arterial BP] Error loading tid 294d820641e1411160f9cd11b1eba8a93685aae3: HTTP Error 403: Forbidden\n",
      "[Case 413 - Systolic BP] Error loading tid e8991d8ace88c7a70aa48f9abf30a373025e5fa6: HTTP Error 403: Forbidden\n",
      "[Case 413 - Central Venous Pressure] Error loading tid 29c4e2f73814c5e3d772bbbeef544376e0aa50dd: HTTP Error 403: Forbidden\n",
      "[Case 413 - End-Tidal CO2] Error loading tid d7f88db7b95b53454d5c7b254fff08ed1f7f23b4: HTTP Error 403: Forbidden\n",
      "[Case 413 - Heart Rate] Error loading tid 5270a012046fca09baad4c53220e3c5bfefcbc26: HTTP Error 403: Forbidden\n",
      "[Case 413 - NIBP Mean BP] Error loading tid 5479c37d945a9127c418b2596243da47a11dd30b: HTTP Error 403: Forbidden\n",
      "[Case 413 - Pleth HR] Error loading tid 42ab1e46745492eda4e47b797e40f796705b20bc: HTTP Error 403: Forbidden\n"
     ]
    },
    {
     "name": "stderr",
     "output_type": "stream",
     "text": [
      "Cases:  84%|████████▍ | 21/25 [01:49<00:21,  5.26s/it]"
     ]
    },
    {
     "name": "stdout",
     "output_type": "stream",
     "text": [
      "[Case 413 - Oxygen Saturation] Error loading tid 9618047e2f4d317769aab2baf775ccf85c96f1f4: HTTP Error 403: Forbidden\n",
      "[Case 416 - Diastolic BP] Error loading tid 1040a4c7aeaa7f05ad108587eef32fd9ee7e694b: HTTP Error 403: Forbidden\n",
      "[Case 416 - Arterial BP] Error loading tid 90966183bc3d53ecab36b80c1ea9c03026a7ad00: HTTP Error 403: Forbidden\n",
      "[Case 416 - Systolic BP] Error loading tid c701104fb40866b1499165357c8f955acb0a3905: HTTP Error 403: Forbidden\n",
      "[Case 416 - End-Tidal CO2] Error loading tid 3480bf545897144ef77ae1994c6842b0d784d68a: HTTP Error 403: Forbidden\n",
      "[Case 416 - Heart Rate] Error loading tid 7e7fda2ad269c0dcaf51ba8043910ba5bbbd7332: HTTP Error 403: Forbidden\n",
      "[Case 416 - NIBP Mean BP] Error loading tid 4fea20ea76f145058205785020ba248904e392d0: HTTP Error 403: Forbidden\n",
      "[Case 416 - Pleth HR] Error loading tid 5a9f2a6ce80e8935b929f8743ff1eacf22492faa: HTTP Error 403: Forbidden\n"
     ]
    },
    {
     "name": "stderr",
     "output_type": "stream",
     "text": [
      "Cases:  88%|████████▊ | 22/25 [01:54<00:15,  5.12s/it]"
     ]
    },
    {
     "name": "stdout",
     "output_type": "stream",
     "text": [
      "[Case 416 - Oxygen Saturation] Error loading tid b3aa6e6a3489a8749b06b06a045000c7dcf43ffa: HTTP Error 403: Forbidden\n",
      "[Case 458 - Diastolic BP] Error loading tid 959e622079cbeaeed3c35415233e488538dc0eb4: HTTP Error 403: Forbidden\n",
      "[Case 458 - Arterial BP] Error loading tid 8fa94c9feaeed6f81ef312268042fe77ab413661: HTTP Error 403: Forbidden\n",
      "[Case 458 - Systolic BP] Error loading tid 503e8910f0624d835480aa6e993f0e2b7f0bf291: HTTP Error 403: Forbidden\n",
      "[Case 458 - End-Tidal CO2] Error loading tid 8c84b888d7389ad331a39d1b9b8214bd650d0ae5: HTTP Error 403: Forbidden\n",
      "[Case 458 - Heart Rate] Error loading tid d44db8a587b28f120166e5c5ab911850c4b55fd3: HTTP Error 403: Forbidden\n",
      "[Case 458 - NIBP Mean BP] Error loading tid b1cba7c1f4590134b0983e1ad1419fdaae2b8162: HTTP Error 403: Forbidden\n",
      "[Case 458 - Pleth HR] Error loading tid 1fefbaa4cb80dec61f846972ed18e66952415fa6: HTTP Error 403: Forbidden\n",
      "[Case 458 - Oxygen Saturation] Error loading tid 4a994ce029e25c71043702804715f7ec897bdbb2: HTTP Error 403: Forbidden\n"
     ]
    },
    {
     "name": "stderr",
     "output_type": "stream",
     "text": [
      "Cases:  92%|█████████▏| 23/25 [01:59<00:10,  5.19s/it]"
     ]
    },
    {
     "name": "stdout",
     "output_type": "stream",
     "text": [
      "[Case 458 - Respiratory Rate] Error loading tid 91b1bca6d13280795015d7e5288fc1d0ff88c20f: HTTP Error 403: Forbidden\n",
      "[Case 460 - Diastolic BP] Error loading tid c830de303c3f81e7de3235d776fbd428409eaaec: HTTP Error 403: Forbidden\n",
      "[Case 460 - Arterial BP] Error loading tid c6fe9c362ca66d4ca47437368b82bf552e17ff16: HTTP Error 403: Forbidden\n",
      "[Case 460 - Systolic BP] Error loading tid 98bcbada1b2427ca48f3ddff08ec3873036197ee: HTTP Error 403: Forbidden\n",
      "[Case 460 - Central Venous Pressure] Error loading tid 6f5c4be7057cf42ca08596e7d9c1730981045543: HTTP Error 403: Forbidden\n",
      "[Case 460 - End-Tidal CO2] Error loading tid 3223a5a024196489aa30086531fc4ac4b262ba26: HTTP Error 403: Forbidden\n",
      "[Case 460 - Heart Rate] Error loading tid 585d2bd60ae44cdeb14a752e71260e88be7b8a61: HTTP Error 403: Forbidden\n",
      "[Case 460 - NIBP Mean BP] Error loading tid 4fcd7f59b549e56a999c98609c864bc30816d61a: HTTP Error 403: Forbidden\n",
      "[Case 460 - Pleth HR] Error loading tid 513fe35864a91b26168c57faa132d3793325bbb2: HTTP Error 403: Forbidden\n"
     ]
    },
    {
     "name": "stderr",
     "output_type": "stream",
     "text": [
      "Cases:  96%|█████████▌| 24/25 [02:04<00:05,  5.21s/it]"
     ]
    },
    {
     "name": "stdout",
     "output_type": "stream",
     "text": [
      "[Case 460 - Oxygen Saturation] Error loading tid 4584eea7c4b74092c96c0e93b36a3e09671d11c0: HTTP Error 403: Forbidden\n",
      "[Case 478 - Diastolic BP] Error loading tid fb8b72a74e19a30c6d2e770ed9b516211e9d456c: HTTP Error 403: Forbidden\n",
      "[Case 478 - Arterial BP] Error loading tid 5fea2b7fe296e8ea0b2f4fbc7530933fd31d6d13: HTTP Error 403: Forbidden\n",
      "[Case 478 - Systolic BP] Error loading tid d45282160ef1608aa2c0b966fc3083fc48317c00: HTTP Error 403: Forbidden\n",
      "[Case 478 - End-Tidal CO2] Error loading tid 69d58f40669b06b63769242d5cffafe3243375f4: HTTP Error 403: Forbidden\n",
      "[Case 478 - Heart Rate] Error loading tid 131ac9df3b2f61412994ab5002ebac68d84748f8: HTTP Error 403: Forbidden\n",
      "[Case 478 - NIBP Mean BP] Error loading tid 779a6c364da9a14d4a7dde24d952d2a6128a31d8: HTTP Error 403: Forbidden\n",
      "[Case 478 - Pleth HR] Error loading tid 95ea8a0b04e7d07c215c07d2a9f3f70f61e46b5c: HTTP Error 403: Forbidden\n"
     ]
    },
    {
     "name": "stderr",
     "output_type": "stream",
     "text": [
      "Cases: 100%|██████████| 25/25 [02:09<00:00,  5.18s/it]"
     ]
    },
    {
     "name": "stdout",
     "output_type": "stream",
     "text": [
      "[Case 478 - Oxygen Saturation] Error loading tid 10d4148ccf6e3f1c1d30b98f4ce3dd62736759bc: HTTP Error 403: Forbidden\n",
      "✅ vital_data.json saved.\n"
     ]
    },
    {
     "name": "stderr",
     "output_type": "stream",
     "text": [
      "\n"
     ]
    }
   ],
   "source": [
    "import pandas as pd\n",
    "import json\n",
    "import os\n",
    "from tqdm import tqdm\n",
    "\n",
    "PARAMETERS = {\n",
    "    'Solar8000/HR': 'Heart Rate',\n",
    "    'Solar8000/ART_MBP': 'Arterial BP',\n",
    "    'Solar8000/PLETH_SPO2': 'Oxygen Saturation',\n",
    "    'Solar8000/ETCO2': 'End-Tidal CO2',\n",
    "    'Solar8000/RR': 'Respiratory Rate',\n",
    "    'Solar8000/PLETH_HR': 'Pleth HR',\n",
    "    'Solar8000/ART_SBP': 'Systolic BP',\n",
    "    'Solar8000/ART_DBP': 'Diastolic BP',\n",
    "    'Solar8000/NIBP_MBP': 'NIBP Mean BP',\n",
    "    'Solar8000/CVP': 'Central Venous Pressure',\n",
    "    'Vigileo/CO': 'Cardiac Output',\n",
    "    'Vigileo/SV': 'Stroke Volume',\n",
    "    'Vigilance/HR_AVG': 'Average HR',\n",
    "    'CardioQ/HR': 'CardioQ HR'\n",
    "}\n",
    "\n",
    "CASE_IDS = [25, 58, 68, 92, 96, 116, 135, 137, 142, 161, 203, 229, 239,\n",
    "            243, 256, 266, 279, 323, 375, 384, 413, 416, 458, 460, 478]\n",
    "\n",
    "TRKS_CSV_URL = 'https://api.vitaldb.net/trks'\n",
    "TRACK_DATA_URL = 'https://api.vitaldb.net/{}.csv'\n",
    "\n",
    "\n",
    "def interpolate_per_second(df):\n",
    "    df['sec'] = df['time'].astype(int)\n",
    "    df = df.drop_duplicates(subset='sec', keep='last')\n",
    "    return df[['sec', 'value']].rename(columns={'sec': 'time'}).to_dict(orient='records')\n",
    "\n",
    "\n",
    "print(\"📥 Downloading track metadata...\")\n",
    "tracks_df = pd.read_csv(TRKS_CSV_URL)\n",
    "filtered_tracks = tracks_df[\n",
    "    (tracks_df['caseid'].isin(CASE_IDS)) &\n",
    "    (tracks_df['tname'].isin(PARAMETERS.keys()))\n",
    "]\n",
    "\n",
    "result = {}\n",
    "for case_id in tqdm(CASE_IDS, desc=\"Cases\"):\n",
    "    case_tracks = filtered_tracks[filtered_tracks['caseid'] == case_id]\n",
    "    if case_tracks.empty:\n",
    "        print(f\"[Case {case_id}] No matching parameters. Skipping.\")\n",
    "        continue\n",
    "\n",
    "    case_data = {}\n",
    "    for _, row in case_tracks.iterrows():\n",
    "        label = PARAMETERS[row['tname']]\n",
    "        tid = row['tid']\n",
    "        try:\n",
    "            df = pd.read_csv(TRACK_DATA_URL.format(tid), names=['time', 'value'], header=None)\n",
    "            df.dropna(inplace=True)\n",
    "            df['time'] = pd.to_numeric(df['time'], errors='coerce')\n",
    "            df['value'] = pd.to_numeric(df['value'], errors='coerce')\n",
    "            df.dropna(inplace=True)\n",
    "            values = interpolate_per_second(df)\n",
    "            case_data[label] = values\n",
    "        except Exception as e:\n",
    "            print(f\"[Case {case_id} - {label}] Error loading tid {tid}: {e}\")\n",
    "\n",
    "    result[str(case_id)] = case_data\n",
    "\n",
    "with open('vital_data.json', 'w') as f:\n",
    "    json.dump(result, f, indent=2)\n",
    "\n",
    "print(\"✅ vital_data.json saved.\")\n",
    "\n"
   ]
  },
  {
   "cell_type": "code",
   "execution_count": null,
   "id": "8148837d",
   "metadata": {},
   "outputs": [],
   "source": []
  }
 ],
 "metadata": {
  "kernelspec": {
   "display_name": "dsc80",
   "language": "python",
   "name": "python3"
  },
  "language_info": {
   "codemirror_mode": {
    "name": "ipython",
    "version": 3
   },
   "file_extension": ".py",
   "mimetype": "text/x-python",
   "name": "python",
   "nbconvert_exporter": "python",
   "pygments_lexer": "ipython3",
   "version": "3.12.8"
  }
 },
 "nbformat": 4,
 "nbformat_minor": 5
}
